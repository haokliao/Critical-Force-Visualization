{
 "metadata": {
  "language_info": {
   "codemirror_mode": {
    "name": "ipython",
    "version": 3
   },
   "file_extension": ".py",
   "mimetype": "text/x-python",
   "name": "python",
   "nbconvert_exporter": "python",
   "pygments_lexer": "ipython3",
   "version": "3.8.5"
  },
  "orig_nbformat": 2,
  "kernelspec": {
   "name": "python3",
   "display_name": "Python 3.8.5 64-bit ('CFVenv': conda)",
   "metadata": {
    "interpreter": {
     "hash": "6d0bda11791ad0a9b7c6d5c5fabb33af174234049dd4a46f283cc7750652eb37"
    }
   }
  }
 },
 "nbformat": 4,
 "nbformat_minor": 2,
 "cells": [
  {
   "source": [
    "## interactively explore database!\n",
    "#some widget thing maybe ipywidgets maybe tkinter? \n",
    "\n",
    "- [x] get widgets aligned\n",
    "- [x] correct drop down names\n",
    "- [x] drop down name outputs\n",
    "- [x] take output plug into chart\n",
    "- [x] display\n",
    "- [ ] figure out how to chart %'s\n",
    "- [ ] drop numbers?"
   ],
   "cell_type": "markdown",
   "metadata": {}
  },
  {
   "cell_type": "code",
   "execution_count": 9,
   "metadata": {},
   "outputs": [],
   "source": [
    "import pandas as pd\n",
    "import seaborn as sns\n",
    "import matplotlib.pyplot as plt\n",
    "import numpy as np\n",
    "import ipywidgets as widgets\n",
    "import df_cleaning\n",
    "from ipywidgets import HBox, widgets"
   ]
  },
  {
   "cell_type": "code",
   "execution_count": 29,
   "metadata": {},
   "outputs": [],
   "source": [
    "dataframe = df_cleaning.clean('Climbing Critical Force Data - Giles et al 2020.csv')\n"
   ]
  },
  {
   "source": [
    "Dropping rows that don't provide much context or data for easier viewing and general readability"
   ],
   "cell_type": "markdown",
   "metadata": {}
  },
  {
   "cell_type": "code",
   "execution_count": 37,
   "metadata": {},
   "outputs": [],
   "source": [
    "#dropping irrelevant columns\n",
    "dataframe = dataframe.drop(columns=[\"# REPS\",'SEX'])\n",
    "\n",
    "#temporary dropping % values \n",
    "dataframe = dataframe.drop(dataframe.columns[[10,11,12,13,14,15,16]], axis=1)"
   ]
  },
  {
   "cell_type": "code",
   "execution_count": 38,
   "metadata": {},
   "outputs": [
    {
     "output_type": "execute_result",
     "data": {
      "text/plain": [
       "     #  AGE (YRS)  HEIGHT (CM)  BODY MASS (KG)  YRS CLIMBING  CLIMB HRS WEEK  \\\n",
       "0  0.0       38.0        164.0            56.5          10.0             3.0   \n",
       "1  1.0       28.0        157.5            56.1          13.0            14.0   \n",
       "2  2.0       26.0        159.0            51.8           2.0             5.0   \n",
       "3  3.0       26.0        169.0            56.3           8.0             6.0   \n",
       "4  4.0       22.0        173.5            71.8           8.0             9.0   \n",
       "\n",
       "   TRAIN HRS WEEK  SPORT GRADE IRCRA  BOULDER GRADE IRCRA  PEAK FORCE (KG)  \n",
       "0             0.0                NaN                 19.0            33.28  \n",
       "1             4.0                NaN                 21.5            42.01  \n",
       "2             0.8                NaN                 17.0            39.73  \n",
       "3             2.0               15.0                 19.0            33.31  \n",
       "4             2.0                NaN                 20.5            50.55  "
      ],
      "text/html": "<div>\n<style scoped>\n    .dataframe tbody tr th:only-of-type {\n        vertical-align: middle;\n    }\n\n    .dataframe tbody tr th {\n        vertical-align: top;\n    }\n\n    .dataframe thead th {\n        text-align: right;\n    }\n</style>\n<table border=\"1\" class=\"dataframe\">\n  <thead>\n    <tr style=\"text-align: right;\">\n      <th></th>\n      <th>#</th>\n      <th>AGE (YRS)</th>\n      <th>HEIGHT (CM)</th>\n      <th>BODY MASS (KG)</th>\n      <th>YRS CLIMBING</th>\n      <th>CLIMB HRS WEEK</th>\n      <th>TRAIN HRS WEEK</th>\n      <th>SPORT GRADE IRCRA</th>\n      <th>BOULDER GRADE IRCRA</th>\n      <th>PEAK FORCE (KG)</th>\n    </tr>\n  </thead>\n  <tbody>\n    <tr>\n      <th>0</th>\n      <td>0.0</td>\n      <td>38.0</td>\n      <td>164.0</td>\n      <td>56.5</td>\n      <td>10.0</td>\n      <td>3.0</td>\n      <td>0.0</td>\n      <td>NaN</td>\n      <td>19.0</td>\n      <td>33.28</td>\n    </tr>\n    <tr>\n      <th>1</th>\n      <td>1.0</td>\n      <td>28.0</td>\n      <td>157.5</td>\n      <td>56.1</td>\n      <td>13.0</td>\n      <td>14.0</td>\n      <td>4.0</td>\n      <td>NaN</td>\n      <td>21.5</td>\n      <td>42.01</td>\n    </tr>\n    <tr>\n      <th>2</th>\n      <td>2.0</td>\n      <td>26.0</td>\n      <td>159.0</td>\n      <td>51.8</td>\n      <td>2.0</td>\n      <td>5.0</td>\n      <td>0.8</td>\n      <td>NaN</td>\n      <td>17.0</td>\n      <td>39.73</td>\n    </tr>\n    <tr>\n      <th>3</th>\n      <td>3.0</td>\n      <td>26.0</td>\n      <td>169.0</td>\n      <td>56.3</td>\n      <td>8.0</td>\n      <td>6.0</td>\n      <td>2.0</td>\n      <td>15.0</td>\n      <td>19.0</td>\n      <td>33.31</td>\n    </tr>\n    <tr>\n      <th>4</th>\n      <td>4.0</td>\n      <td>22.0</td>\n      <td>173.5</td>\n      <td>71.8</td>\n      <td>8.0</td>\n      <td>9.0</td>\n      <td>2.0</td>\n      <td>NaN</td>\n      <td>20.5</td>\n      <td>50.55</td>\n    </tr>\n  </tbody>\n</table>\n</div>"
     },
     "metadata": {},
     "execution_count": 38
    }
   ],
   "source": [
    "dataframe.head()"
   ]
  },
  {
   "cell_type": "code",
   "execution_count": 32,
   "metadata": {},
   "outputs": [],
   "source": [
    "def create_plot(x_ax,y_ax):\n",
    "    fig, (ax1) = plt.subplots(1, figsize=(5 , 5))\n",
    "    ax1 = sns.scatterplot(data = dataframe, x= dataframe[x_ax], y=dataframe[y_ax], color='darkblue')\n",
    "\n",
    "    sns.despine(offset=10, trim=True);\n",
    "    sns.set_style(\"darkgrid\")\n",
    "    ax1.set(xlabel = x_ax.upper(), ylabel = y_ax.upper())\n",
    "\n",
    "    plt.title('%s vs %s'%(x_ax.upper(), y_ax.upper()))"
   ]
  },
  {
   "cell_type": "code",
   "execution_count": 33,
   "metadata": {},
   "outputs": [],
   "source": [
    "x_ax_drop = widgets.Dropdown(options=dataframe.columns, value = dataframe.columns[0])\n",
    "y_ax_drop = widgets.Dropdown(options=dataframe.columns, value = dataframe.columns[1])"
   ]
  },
  {
   "cell_type": "code",
   "execution_count": 34,
   "metadata": {},
   "outputs": [],
   "source": [
    "out = widgets.interactive_output(create_plot, {'x_ax': x_ax_drop, 'y_ax': y_ax_drop})\n"
   ]
  },
  {
   "cell_type": "code",
   "execution_count": 35,
   "metadata": {},
   "outputs": [
    {
     "output_type": "display_data",
     "data": {
      "text/plain": "VBox(children=(HBox(children=(Dropdown(options=('#', 'AGE (YRS)', 'HEIGHT (CM)', 'BODY MASS (KG)', 'YRS CLIMBI…",
      "application/vnd.jupyter.widget-view+json": {
       "version_major": 2,
       "version_minor": 0,
       "model_id": "93907163c304469c81b96f838e0d9b04"
      }
     },
     "metadata": {}
    }
   ],
   "source": [
    "widgets.VBox([widgets.HBox([x_ax_drop, y_ax_drop]), out])"
   ]
  },
  {
   "cell_type": "code",
   "execution_count": null,
   "metadata": {},
   "outputs": [],
   "source": []
  }
 ]
}