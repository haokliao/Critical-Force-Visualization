{
 "metadata": {
  "language_info": {
   "codemirror_mode": {
    "name": "ipython",
    "version": 3
   },
   "file_extension": ".py",
   "mimetype": "text/x-python",
   "name": "python",
   "nbconvert_exporter": "python",
   "pygments_lexer": "ipython3",
   "version": "3.8.5"
  },
  "orig_nbformat": 2,
  "kernelspec": {
   "name": "python385jvsc74a57bd06d0bda11791ad0a9b7c6d5c5fabb33af174234049dd4a46f283cc7750652eb37",
   "display_name": "Python 3.8.5 64-bit ('CFVenv': conda)"
  }
 },
 "nbformat": 4,
 "nbformat_minor": 2,
 "cells": [
  {
   "source": [
    "## interactively explore database!\n",
    "#some widget thing maybe ipywidgets maybe tkinter? \n",
    "\n",
    "- [x] get widgets aligned\n",
    "- [x] correct drop down names\n",
    "- [x] drop down name outputs\n",
    "- [x] take output plug into chart\n",
    "- [x] display\n",
    "- [x] figure out how to chart %'s > adjust number in dataframe, new function for df_cleaning\n",
    "- [ ] figure out defaults for chart?"
   ],
   "cell_type": "markdown",
   "metadata": {}
  },
  {
   "cell_type": "code",
   "execution_count": 1,
   "metadata": {},
   "outputs": [],
   "source": [
    "import pandas as pd\n",
    "import seaborn as sns\n",
    "import matplotlib.pyplot as plt\n",
    "import numpy as np\n",
    "import ipywidgets as widgets\n",
    "import df_cleaning\n",
    "\n",
    "from df_cleaning import percentage_fix\n",
    "from ipywidgets import HBox, widgets"
   ]
  },
  {
   "cell_type": "code",
   "execution_count": 2,
   "metadata": {},
   "outputs": [],
   "source": [
    "dataframe = df_cleaning.clean('Climbing Critical Force Data - Giles et al 2020.csv')\n",
    "#Cleaning blocks from CSV file that are full of NaN values\n",
    "\n",
    "percentage_fix(dataframe)\n",
    "#Converting the %'s in the dataframe into floats, for chart readability"
   ]
  },
  {
   "source": [
    "Dropping rows that don't provide much context or data for easier viewing and general readability"
   ],
   "cell_type": "markdown",
   "metadata": {}
  },
  {
   "cell_type": "code",
   "execution_count": 3,
   "metadata": {},
   "outputs": [],
   "source": [
    "#dropping irrelevant columns\n",
    "dataframe = dataframe.drop(columns=[\"# REPS\",'SEX'])\n",
    "\n",
    "#temporary dropping % values \n",
    "# dataframe = dataframe.drop(dataframe.columns[[10,11,12,13,14,15,16]], axis=1)"
   ]
  },
  {
   "cell_type": "code",
   "execution_count": 4,
   "metadata": {},
   "outputs": [
    {
     "output_type": "execute_result",
     "data": {
      "text/plain": [
       "     #  AGE (YRS)  HEIGHT (CM)  BODY MASS (KG)  YRS CLIMBING  CLIMB HRS WEEK  \\\n",
       "0  0.0       38.0        164.0            56.5          10.0             3.0   \n",
       "1  1.0       28.0        157.5            56.1          13.0            14.0   \n",
       "2  2.0       26.0        159.0            51.8           2.0             5.0   \n",
       "3  3.0       26.0        169.0            56.3           8.0             6.0   \n",
       "4  4.0       22.0        173.5            71.8           8.0             9.0   \n",
       "\n",
       "   TRAIN HRS WEEK  SPORT GRADE IRCRA  BOULDER GRADE IRCRA  PEAK FORCE (KG)  \\\n",
       "0             0.0                NaN                 19.0            33.28   \n",
       "1             4.0                NaN                 21.5            42.01   \n",
       "2             0.8                NaN                 17.0            39.73   \n",
       "3             2.0               15.0                 19.0            33.31   \n",
       "4             2.0                NaN                 20.5            50.55   \n",
       "\n",
       "   PEAK FORCE % BODY MASS  CF (KG)  CF % PEAK FORCE  CF % BODY MASS  \\\n",
       "0                   0.589    12.85            0.386           0.227   \n",
       "1                   0.749    13.52            0.322           0.241   \n",
       "2                   0.767    11.08            0.279           0.214   \n",
       "3                   0.592     7.84            0.235           0.139   \n",
       "4                   0.704    16.84            0.333           0.235   \n",
       "\n",
       "   40% MVC (KG)  W' (KG)  W' PER KG BODY MASS  \n",
       "0          9.98   579.31                10.25  \n",
       "1         16.80  1088.38                19.40  \n",
       "2         15.89   884.00                17.06  \n",
       "3         13.32   463.40                 8.23  \n",
       "4         20.22   968.50                13.49  "
      ],
      "text/html": "<div>\n<style scoped>\n    .dataframe tbody tr th:only-of-type {\n        vertical-align: middle;\n    }\n\n    .dataframe tbody tr th {\n        vertical-align: top;\n    }\n\n    .dataframe thead th {\n        text-align: right;\n    }\n</style>\n<table border=\"1\" class=\"dataframe\">\n  <thead>\n    <tr style=\"text-align: right;\">\n      <th></th>\n      <th>#</th>\n      <th>AGE (YRS)</th>\n      <th>HEIGHT (CM)</th>\n      <th>BODY MASS (KG)</th>\n      <th>YRS CLIMBING</th>\n      <th>CLIMB HRS WEEK</th>\n      <th>TRAIN HRS WEEK</th>\n      <th>SPORT GRADE IRCRA</th>\n      <th>BOULDER GRADE IRCRA</th>\n      <th>PEAK FORCE (KG)</th>\n      <th>PEAK FORCE % BODY MASS</th>\n      <th>CF (KG)</th>\n      <th>CF % PEAK FORCE</th>\n      <th>CF % BODY MASS</th>\n      <th>40% MVC (KG)</th>\n      <th>W' (KG)</th>\n      <th>W' PER KG BODY MASS</th>\n    </tr>\n  </thead>\n  <tbody>\n    <tr>\n      <th>0</th>\n      <td>0.0</td>\n      <td>38.0</td>\n      <td>164.0</td>\n      <td>56.5</td>\n      <td>10.0</td>\n      <td>3.0</td>\n      <td>0.0</td>\n      <td>NaN</td>\n      <td>19.0</td>\n      <td>33.28</td>\n      <td>0.589</td>\n      <td>12.85</td>\n      <td>0.386</td>\n      <td>0.227</td>\n      <td>9.98</td>\n      <td>579.31</td>\n      <td>10.25</td>\n    </tr>\n    <tr>\n      <th>1</th>\n      <td>1.0</td>\n      <td>28.0</td>\n      <td>157.5</td>\n      <td>56.1</td>\n      <td>13.0</td>\n      <td>14.0</td>\n      <td>4.0</td>\n      <td>NaN</td>\n      <td>21.5</td>\n      <td>42.01</td>\n      <td>0.749</td>\n      <td>13.52</td>\n      <td>0.322</td>\n      <td>0.241</td>\n      <td>16.80</td>\n      <td>1088.38</td>\n      <td>19.40</td>\n    </tr>\n    <tr>\n      <th>2</th>\n      <td>2.0</td>\n      <td>26.0</td>\n      <td>159.0</td>\n      <td>51.8</td>\n      <td>2.0</td>\n      <td>5.0</td>\n      <td>0.8</td>\n      <td>NaN</td>\n      <td>17.0</td>\n      <td>39.73</td>\n      <td>0.767</td>\n      <td>11.08</td>\n      <td>0.279</td>\n      <td>0.214</td>\n      <td>15.89</td>\n      <td>884.00</td>\n      <td>17.06</td>\n    </tr>\n    <tr>\n      <th>3</th>\n      <td>3.0</td>\n      <td>26.0</td>\n      <td>169.0</td>\n      <td>56.3</td>\n      <td>8.0</td>\n      <td>6.0</td>\n      <td>2.0</td>\n      <td>15.0</td>\n      <td>19.0</td>\n      <td>33.31</td>\n      <td>0.592</td>\n      <td>7.84</td>\n      <td>0.235</td>\n      <td>0.139</td>\n      <td>13.32</td>\n      <td>463.40</td>\n      <td>8.23</td>\n    </tr>\n    <tr>\n      <th>4</th>\n      <td>4.0</td>\n      <td>22.0</td>\n      <td>173.5</td>\n      <td>71.8</td>\n      <td>8.0</td>\n      <td>9.0</td>\n      <td>2.0</td>\n      <td>NaN</td>\n      <td>20.5</td>\n      <td>50.55</td>\n      <td>0.704</td>\n      <td>16.84</td>\n      <td>0.333</td>\n      <td>0.235</td>\n      <td>20.22</td>\n      <td>968.50</td>\n      <td>13.49</td>\n    </tr>\n  </tbody>\n</table>\n</div>"
     },
     "metadata": {},
     "execution_count": 4
    }
   ],
   "source": [
    "dataframe.head()"
   ]
  },
  {
   "cell_type": "code",
   "execution_count": 5,
   "metadata": {},
   "outputs": [],
   "source": [
    "def create_plot(x_ax,y_ax):\n",
    "    fig, (ax1) = plt.subplots(1, figsize=(5 , 5))\n",
    "    ax1 = sns.scatterplot(data = dataframe, x= dataframe[x_ax], y=dataframe[y_ax], color='darkblue')\n",
    "\n",
    "    sns.despine(offset=10, trim=True);\n",
    "    sns.set_style(\"darkgrid\")\n",
    "    ax1.set(xlabel = x_ax.upper(), ylabel = y_ax.upper())\n",
    "\n",
    "\n",
    "    plt.title('%s vs %s'%(x_ax.upper(), y_ax.upper()))"
   ]
  },
  {
   "cell_type": "code",
   "execution_count": 6,
   "metadata": {},
   "outputs": [],
   "source": [
    "x_ax_drop = widgets.Dropdown(options=dataframe.columns, value = dataframe.columns[0])\n",
    "y_ax_drop = widgets.Dropdown(options=dataframe.columns, value = dataframe.columns[1])"
   ]
  },
  {
   "cell_type": "code",
   "execution_count": 7,
   "metadata": {},
   "outputs": [],
   "source": [
    "out = widgets.interactive_output(create_plot, {'x_ax': x_ax_drop, 'y_ax': y_ax_drop})\n"
   ]
  },
  {
   "cell_type": "code",
   "execution_count": 8,
   "metadata": {},
   "outputs": [
    {
     "output_type": "display_data",
     "data": {
      "text/plain": "VBox(children=(HBox(children=(Dropdown(options=('#', 'AGE (YRS)', 'HEIGHT (CM)', 'BODY MASS (KG)', 'YRS CLIMBI…",
      "application/vnd.jupyter.widget-view+json": {
       "version_major": 2,
       "version_minor": 0,
       "model_id": "4295dd87fbd943faab97003714ae0f62"
      }
     },
     "metadata": {}
    }
   ],
   "source": [
    "widgets.VBox([widgets.HBox([x_ax_drop, y_ax_drop]), out])"
   ]
  },
  {
   "cell_type": "code",
   "execution_count": null,
   "metadata": {},
   "outputs": [],
   "source": []
  }
 ]
}