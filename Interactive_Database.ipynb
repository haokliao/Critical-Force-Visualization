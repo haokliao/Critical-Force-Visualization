{
 "metadata": {
  "language_info": {
   "codemirror_mode": {
    "name": "ipython",
    "version": 3
   },
   "file_extension": ".py",
   "mimetype": "text/x-python",
   "name": "python",
   "nbconvert_exporter": "python",
   "pygments_lexer": "ipython3",
   "version": "3.8.5-final"
  },
  "orig_nbformat": 2,
  "kernelspec": {
   "name": "python3",
   "display_name": "Python 3.8.5 64-bit",
   "metadata": {
    "interpreter": {
     "hash": "6d0bda11791ad0a9b7c6d5c5fabb33af174234049dd4a46f283cc7750652eb37"
    }
   }
  }
 },
 "nbformat": 4,
 "nbformat_minor": 2,
 "cells": [
  {
   "source": [
    "## interactively explore database!\n",
    "#some widget thing maybe ipywidgets maybe tkinter? \n",
    "\n",
    "- [x] get widgets aligned\n",
    "- [x] correct drop down names\n",
    "- [x] drop down name outputs\n",
    "- [x] take output plug into chart\n",
    "- [ ] plug walk\n",
    "- [ ] display\n",
    "- [ ] figure out how to chart %'s\n"
   ],
   "cell_type": "markdown",
   "metadata": {}
  },
  {
   "cell_type": "code",
   "execution_count": 57,
   "metadata": {},
   "outputs": [],
   "source": [
    "import pandas as pd\n",
    "import seaborn as sns\n",
    "import matplotlib.pyplot as plt\n",
    "import numpy as np\n",
    "import ipywidgets as widgets\n",
    "from ipywidgets import HBox, widgets"
   ]
  },
  {
   "cell_type": "code",
   "execution_count": 81,
   "metadata": {},
   "outputs": [],
   "source": [
    "dataframe = pd.read_csv('Climbing Critical Force Data - Giles et al 2020.csv')\n",
    "dataframe = dataframe.dropna(axis=1, how='all')\n",
    "#drop all columns filled with only na values\n",
    "dataframe = dataframe.dropna(axis=0, how='all')\n",
    "#drop all rows with na values\n",
    "dataframe = dataframe.drop(columns=[\"# REPS\"])\n",
    "#dropped irrelevant row"
   ]
  },
  {
   "cell_type": "code",
   "execution_count": 83,
   "metadata": {},
   "outputs": [],
   "source": [
    "#temporary dropping % values \n",
    "dataframe = dataframe.drop(dataframe.columns[[11,12,13,14,15,16,17]], axis=1)"
   ]
  },
  {
   "cell_type": "code",
   "execution_count": 84,
   "metadata": {},
   "outputs": [
    {
     "output_type": "execute_result",
     "data": {
      "text/plain": [
       "     #     SEX  AGE (YRS)  HEIGHT (CM)  BODY MASS (KG)  YRS CLIMBING  \\\n",
       "0  0.0  Female       38.0        164.0            56.5          10.0   \n",
       "1  1.0  Female       28.0        157.5            56.1          13.0   \n",
       "2  2.0  Female       26.0        159.0            51.8           2.0   \n",
       "3  3.0  Female       26.0        169.0            56.3           8.0   \n",
       "4  4.0  Female       22.0        173.5            71.8           8.0   \n",
       "\n",
       "   CLIMB HRS WEEK  TRAIN HRS WEEK  SPORT GRADE IRCRA  BOULDER GRADE IRCRA  \\\n",
       "0             3.0             0.0                NaN                 19.0   \n",
       "1            14.0             4.0                NaN                 21.5   \n",
       "2             5.0             0.8                NaN                 17.0   \n",
       "3             6.0             2.0               15.0                 19.0   \n",
       "4             9.0             2.0                NaN                 20.5   \n",
       "\n",
       "   PEAK FORCE (KG)  \n",
       "0            33.28  \n",
       "1            42.01  \n",
       "2            39.73  \n",
       "3            33.31  \n",
       "4            50.55  "
      ],
      "text/html": "<div>\n<style scoped>\n    .dataframe tbody tr th:only-of-type {\n        vertical-align: middle;\n    }\n\n    .dataframe tbody tr th {\n        vertical-align: top;\n    }\n\n    .dataframe thead th {\n        text-align: right;\n    }\n</style>\n<table border=\"1\" class=\"dataframe\">\n  <thead>\n    <tr style=\"text-align: right;\">\n      <th></th>\n      <th>#</th>\n      <th>SEX</th>\n      <th>AGE (YRS)</th>\n      <th>HEIGHT (CM)</th>\n      <th>BODY MASS (KG)</th>\n      <th>YRS CLIMBING</th>\n      <th>CLIMB HRS WEEK</th>\n      <th>TRAIN HRS WEEK</th>\n      <th>SPORT GRADE IRCRA</th>\n      <th>BOULDER GRADE IRCRA</th>\n      <th>PEAK FORCE (KG)</th>\n    </tr>\n  </thead>\n  <tbody>\n    <tr>\n      <th>0</th>\n      <td>0.0</td>\n      <td>Female</td>\n      <td>38.0</td>\n      <td>164.0</td>\n      <td>56.5</td>\n      <td>10.0</td>\n      <td>3.0</td>\n      <td>0.0</td>\n      <td>NaN</td>\n      <td>19.0</td>\n      <td>33.28</td>\n    </tr>\n    <tr>\n      <th>1</th>\n      <td>1.0</td>\n      <td>Female</td>\n      <td>28.0</td>\n      <td>157.5</td>\n      <td>56.1</td>\n      <td>13.0</td>\n      <td>14.0</td>\n      <td>4.0</td>\n      <td>NaN</td>\n      <td>21.5</td>\n      <td>42.01</td>\n    </tr>\n    <tr>\n      <th>2</th>\n      <td>2.0</td>\n      <td>Female</td>\n      <td>26.0</td>\n      <td>159.0</td>\n      <td>51.8</td>\n      <td>2.0</td>\n      <td>5.0</td>\n      <td>0.8</td>\n      <td>NaN</td>\n      <td>17.0</td>\n      <td>39.73</td>\n    </tr>\n    <tr>\n      <th>3</th>\n      <td>3.0</td>\n      <td>Female</td>\n      <td>26.0</td>\n      <td>169.0</td>\n      <td>56.3</td>\n      <td>8.0</td>\n      <td>6.0</td>\n      <td>2.0</td>\n      <td>15.0</td>\n      <td>19.0</td>\n      <td>33.31</td>\n    </tr>\n    <tr>\n      <th>4</th>\n      <td>4.0</td>\n      <td>Female</td>\n      <td>22.0</td>\n      <td>173.5</td>\n      <td>71.8</td>\n      <td>8.0</td>\n      <td>9.0</td>\n      <td>2.0</td>\n      <td>NaN</td>\n      <td>20.5</td>\n      <td>50.55</td>\n    </tr>\n  </tbody>\n</table>\n</div>"
     },
     "metadata": {},
     "execution_count": 84
    }
   ],
   "source": [
    "dataframe.head()"
   ]
  },
  {
   "cell_type": "code",
   "execution_count": 85,
   "metadata": {},
   "outputs": [
    {
     "output_type": "display_data",
     "data": {
      "text/plain": "VBox(children=(HBox(children=(Dropdown(options=('#', 'SEX', 'AGE (YRS)', 'HEIGHT (CM)', 'BODY MASS (KG)', 'YRS…",
      "application/vnd.jupyter.widget-view+json": {
       "version_major": 2,
       "version_minor": 0,
       "model_id": "dba349d9c65443c5b37915f13c9fb384"
      }
     },
     "metadata": {}
    }
   ],
   "source": [
    "def create_plot(x_ax,y_ax):\n",
    "    ax1 = sns.scatterplot(data = dataframe, x= dataframe[x_ax], y=dataframe[y_ax],      color='darkblue')\n",
    "    ax1.set(xlabel = x_ax.capitalize(), ylabel = y_ax.capitalize())\n",
    "\n",
    "    plt.title('%s vs %s'%(x_ax.capitalize(), y_ax.capitalize()))\n",
    "\n",
    "x_ax_drop = widgets.Dropdown(options=dataframe.columns, value = dataframe.columns[0])\n",
    "y_ax_drop = widgets.Dropdown(options=dataframe.columns, value = dataframe.columns[1])\n",
    "\n",
    "out = widgets.interactive_output(create_plot, {'x_ax': x_ax_drop, 'y_ax': y_ax_drop})\n",
    "\n",
    "widgets.VBox([widgets.HBox([x_ax_drop, y_ax_drop]), out])"
   ]
  },
  {
   "cell_type": "code",
   "execution_count": null,
   "metadata": {},
   "outputs": [],
   "source": []
  },
  {
   "cell_type": "code",
   "execution_count": null,
   "metadata": {},
   "outputs": [],
   "source": []
  }
 ]
}